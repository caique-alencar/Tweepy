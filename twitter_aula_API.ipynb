{
 "cells": [
  {
   "cell_type": "code",
   "execution_count": 6,
   "metadata": {},
   "outputs": [
    {
     "name": "stdout",
     "output_type": "stream",
     "text": [
      "O usuário folha tem 6506955 seguidores no Twitter.\n",
      "O usuário estadao tem 6237161 seguidores no Twitter.\n",
      "O usuário jornaloglobo tem 5748850 seguidores no Twitter.\n",
      "O usuário gauchazh tem 1101710 seguidores no Twitter.\n"
     ]
    }
   ],
   "source": [
    "# Acessando a API do Twitter\n",
    "# Documentação da API: http://docs.tweepy.org/en/v3.5.0/\n",
    "# Rodar no cmd: jupyter notebook --NotebookApp.iopub_data_rate_limit=10000000000\n",
    "\n",
    "import tweepy\n",
    "import json\n",
    "import csv\n",
    "\n",
    "# Carrega as credenciais da API do Twitter\n",
    "# Nesse caso, as credenciais estão em um JSON salvo no mesmo diretório, que vai ser puxado pelo código\n",
    "with open('credenciais_twitter.json') as cred_data:\n",
    "    info = json.load(cred_data)\n",
    "    consumer_key = info['consumer_key']\n",
    "    consumer_secret = info['consumer_secret']\n",
    "    access_token = info['access_token']\n",
    "    access_token_secret = info['access_token_secret']\n",
    "\n",
    "# Autorização e inicialização da tweepy\n",
    "auth = tweepy.OAuthHandler(consumer_key, consumer_secret)\n",
    "auth.set_access_token(access_token, access_token_secret)\n",
    "api = tweepy.API(auth)\n",
    "\n",
    "jornais_no_twitter =[\"folha\", \"estadao\", \"jornaloglobo\", \"gauchazh\"]\n",
    "\n",
    "def seguidores(usuario_no_twitter):\n",
    "    consulta_api = api.get_user(usuario_no_twitter)._json\n",
    "    seguidores = consulta_api[\"followers_count\"]\n",
    "    return seguidores\n",
    "\n",
    "for jornal in jornais_no_twitter:\n",
    "    numero = seguidores(jornal)\n",
    "    frase = f\"O usuário {jornal} tem {numero} seguidores no Twitter.\"\n",
    "    print(frase)"
   ]
  },
  {
   "cell_type": "code",
   "execution_count": 7,
   "metadata": {},
   "outputs": [
    {
     "data": {
      "text/plain": [
       "{'contributors_enabled': False,\n",
       " 'created_at': 'Tue Aug 03 18:52:40 +0000 2010',\n",
       " 'default_profile': False,\n",
       " 'default_profile_image': False,\n",
       " 'description': 'Jornalista de dados. Formado pela @metodista. Ex-foca do @Estadao. Passagens pelo @portalR7 e @reporterdiario. Tenho interesse por #ddj e sou #teampython.',\n",
       " 'entities': {'description': {'urls': []},\n",
       "  'url': {'urls': [{'display_url': 'sites.google.com/view/caiqueale…',\n",
       "     'expanded_url': 'http://sites.google.com/view/caiquealencar',\n",
       "     'indices': [0, 23],\n",
       "     'url': 'https://t.co/VgHBlqon5w'}]}},\n",
       " 'favourites_count': 3058,\n",
       " 'follow_request_sent': False,\n",
       " 'followers_count': 186,\n",
       " 'following': False,\n",
       " 'friends_count': 883,\n",
       " 'geo_enabled': True,\n",
       " 'has_extended_profile': True,\n",
       " 'id': 174357535,\n",
       " 'id_str': '174357535',\n",
       " 'is_translation_enabled': False,\n",
       " 'is_translator': False,\n",
       " 'lang': 'pt',\n",
       " 'listed_count': 1,\n",
       " 'location': 'São Caetano do Sul, SP',\n",
       " 'name': 'Caíque Alencar',\n",
       " 'needs_phone_verification': False,\n",
       " 'notifications': False,\n",
       " 'profile_background_color': '131516',\n",
       " 'profile_background_image_url': 'http://abs.twimg.com/images/themes/theme14/bg.gif',\n",
       " 'profile_background_image_url_https': 'https://abs.twimg.com/images/themes/theme14/bg.gif',\n",
       " 'profile_background_tile': True,\n",
       " 'profile_banner_url': 'https://pbs.twimg.com/profile_banners/174357535/1538099679',\n",
       " 'profile_image_url': 'http://pbs.twimg.com/profile_images/975787340865130496/1HhOMETr_normal.jpg',\n",
       " 'profile_image_url_https': 'https://pbs.twimg.com/profile_images/975787340865130496/1HhOMETr_normal.jpg',\n",
       " 'profile_link_color': '54D2E8',\n",
       " 'profile_location': None,\n",
       " 'profile_sidebar_border_color': 'FFFFFF',\n",
       " 'profile_sidebar_fill_color': 'EFEFEF',\n",
       " 'profile_text_color': '454045',\n",
       " 'profile_use_background_image': True,\n",
       " 'protected': False,\n",
       " 'screen_name': 'caiqalencar',\n",
       " 'status': {'contributors': None,\n",
       "  'coordinates': None,\n",
       "  'created_at': 'Tue Feb 12 13:11:43 +0000 2019',\n",
       "  'entities': {'hashtags': [],\n",
       "   'symbols': [],\n",
       "   'urls': [{'display_url': 'twitter.com/jairmearrepend…',\n",
       "     'expanded_url': 'https://twitter.com/jairmearrependi/status/1095141221427761152',\n",
       "     'indices': [21, 44],\n",
       "     'url': 'https://t.co/zsmxZOP6Hl'}],\n",
       "   'user_mentions': []},\n",
       "  'favorite_count': 0,\n",
       "  'favorited': False,\n",
       "  'geo': None,\n",
       "  'id': 1095309476259917828,\n",
       "  'id_str': '1095309476259917828',\n",
       "  'in_reply_to_screen_name': None,\n",
       "  'in_reply_to_status_id': None,\n",
       "  'in_reply_to_status_id_str': None,\n",
       "  'in_reply_to_user_id': None,\n",
       "  'in_reply_to_user_id_str': None,\n",
       "  'is_quote_status': True,\n",
       "  'lang': 'pt',\n",
       "  'place': None,\n",
       "  'possibly_sensitive': False,\n",
       "  'quoted_status_id': 1095141221427761152,\n",
       "  'quoted_status_id_str': '1095141221427761152',\n",
       "  'retweet_count': 0,\n",
       "  'retweeted': False,\n",
       "  'source': '<a href=\"http://twitter.com/download/iphone\" rel=\"nofollow\">Twitter for iPhone</a>',\n",
       "  'text': 'Mano, é cada absurdo https://t.co/zsmxZOP6Hl',\n",
       "  'truncated': False},\n",
       " 'statuses_count': 7775,\n",
       " 'suspended': False,\n",
       " 'time_zone': None,\n",
       " 'translator_type': 'none',\n",
       " 'url': 'https://t.co/VgHBlqon5w',\n",
       " 'utc_offset': None,\n",
       " 'verified': False}"
      ]
     },
     "execution_count": 7,
     "metadata": {},
     "output_type": "execute_result"
    }
   ],
   "source": [
    "caique = api.get_user(\"caiqalencar\")._json\n",
    "caique"
   ]
  },
  {
   "cell_type": "code",
   "execution_count": 8,
   "metadata": {},
   "outputs": [
    {
     "data": {
      "text/plain": [
       "144"
      ]
     },
     "execution_count": 8,
     "metadata": {},
     "output_type": "execute_result"
    }
   ],
   "source": [
    "laranjeira = api.get_user(\"flaranjeira96\")._json\n",
    "laranjeira[\"followers_count\"]"
   ]
  },
  {
   "cell_type": "code",
   "execution_count": 9,
   "metadata": {},
   "outputs": [
    {
     "data": {
      "text/plain": [
       "40801"
      ]
     },
     "execution_count": 9,
     "metadata": {},
     "output_type": "execute_result"
    }
   ],
   "source": [
    "matheus = api.get_user(\"letoangio\")._json\n",
    "matheus[\"statuses_count\"]"
   ]
  },
  {
   "cell_type": "code",
   "execution_count": 7,
   "metadata": {},
   "outputs": [],
   "source": [
    "# Usa uma definição de perfis de direita e esquerda\n",
    "# Pega os links que esses perfis compartilham\n",
    "# Rankea os links em popularidade\n",
    "# Entrega os resultados\n",
    "\n",
    "# perfis_politicos = {\"esquerda\": [\"jeanwyllys_real\", \"perfil2\"], \"direita\": [\"jairbolsonaro\", \"perfil3\"]\n",
    "\n",
    "# def pega_links(perfil):\n",
    "    # Entrar na API\n",
    "    # Usar user_timeline (perfil)\n",
    "    # Pegar a lista de resultados e achar o que é url\n",
    "    # return [lista de links]"
   ]
  },
  {
   "cell_type": "code",
   "execution_count": null,
   "metadata": {},
   "outputs": [],
   "source": []
  }
 ],
 "metadata": {
  "kernelspec": {
   "display_name": "Python 3",
   "language": "python",
   "name": "python3"
  },
  "language_info": {
   "codemirror_mode": {
    "name": "ipython",
    "version": 3
   },
   "file_extension": ".py",
   "mimetype": "text/x-python",
   "name": "python",
   "nbconvert_exporter": "python",
   "pygments_lexer": "ipython3",
   "version": "3.6.4"
  }
 },
 "nbformat": 4,
 "nbformat_minor": 2
}
