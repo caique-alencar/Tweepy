{
 "cells": [
  {
   "cell_type": "code",
   "execution_count": 7,
   "metadata": {},
   "outputs": [
    {
     "name": "stdout",
     "output_type": "stream",
     "text": [
      "Qual a @ do usuário que você quer consultar os seguidores? folha\n",
      "\n",
      "['feduambiental', 'IvanNavesCosta1', 'Bruna45281101', 'de_marroque', 'laritza', 'Joseilto16', 'luizmaianetogl1', 'juliocezarquei1', 'ThiagoNavesy', 'martinslethy', 'BasqueraGabi', 'PATRICI13603589', 'VICTORFontinel7', 'Charles04247252', 'matheusmonteirc', 'Wedson12361070', 'maroyola1', 'HenriquesMuniz', 'povohonesto', 'Yuri53441624']\n"
     ]
    }
   ],
   "source": [
    "# Acessando a API do Twitter\n",
    "# Documentação da API: http://docs.tweepy.org/en/v3.5.0/\n",
    "# Rodar no cmd: jupyter notebook --NotebookApp.iopub_data_rate_limit=10000000000\n",
    "\n",
    "import tweepy\n",
    "import json\n",
    "import csv\n",
    "\n",
    "# Carrega as credenciais da API do Twitter\n",
    "# Nesse caso, as credenciais estão em um JSON salvo no mesmo diretório, que vai ser puxado pelo código\n",
    "with open('credenciais_twitter.json') as cred_data:\n",
    "    info = json.load(cred_data)\n",
    "    consumer_key = info['consumer_key']\n",
    "    consumer_secret = info['consumer_secret']\n",
    "    access_token = info['access_token']\n",
    "    access_token_secret = info['access_token_secret']\n",
    "\n",
    "# Autorização e inicialização da tweepy\n",
    "auth = tweepy.OAuthHandler(consumer_key, consumer_secret)\n",
    "auth.set_access_token(access_token, access_token_secret)\n",
    "api = tweepy.API(auth)\n",
    "\n",
    "id = input(\"Qual a @ do usuário que você quer consultar os seguidores? \")\n",
    "id = id.replace(\"@\", \"\")\n",
    "id = id.strip()\n",
    "print()\n",
    "\n",
    "# Conta quantos seguidores determinado usuário tem\n",
    "consulta_api = api.get_user(id)._json\n",
    "contagem_seguidores = consulta_api[\"followers_count\"]\n",
    "\n",
    "# Cria lista para armazenar os seguidores\n",
    "lista_seguidores = []\n",
    "\n",
    "# Lista quais são os ids dos seguidores de determinado usuário\n",
    "# Usa a contagem de seguidores como parâmetro\n",
    "seguidores = api.followers(screen_name = id, count = contagem_seguidores)\n",
    "for usuario in seguidores:\n",
    "    nome = usuario.screen_name\n",
    "    if nome not in lista_seguidores:\n",
    "        lista_seguidores.append(nome)\n",
    "    \n",
    "print(lista_seguidores)\n",
    "\n",
    "# Gera um CSV com a lista de seguidores\n",
    "with open(\"seguidores_%s.csv\" % id, \"w\", encoding=\"utf-8\") as arquivo_saida:\n",
    "    escritor = csv.writer(arquivo_saida, lineterminator=\"\\n\")\n",
    "    escritor.writerow([\"seguidores\"])\n",
    "    for seguidor in lista_seguidores:\n",
    "        escritor.writerow([seguidor])"
   ]
  },
  {
   "cell_type": "code",
   "execution_count": null,
   "metadata": {},
   "outputs": [],
   "source": []
  }
 ],
 "metadata": {
  "kernelspec": {
   "display_name": "Python 3",
   "language": "python",
   "name": "python3"
  },
  "language_info": {
   "codemirror_mode": {
    "name": "ipython",
    "version": 3
   },
   "file_extension": ".py",
   "mimetype": "text/x-python",
   "name": "python",
   "nbconvert_exporter": "python",
   "pygments_lexer": "ipython3",
   "version": "3.6.4"
  }
 },
 "nbformat": 4,
 "nbformat_minor": 2
}
